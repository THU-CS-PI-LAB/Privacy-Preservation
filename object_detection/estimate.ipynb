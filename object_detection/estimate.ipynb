{
 "cells": [
  {
   "cell_type": "code",
   "execution_count": null,
   "metadata": {},
   "outputs": [],
   "source": [
    "import os\n",
    "import json\n",
    "import shutil\n",
    "import pandas as pd\n",
    "import numpy as np\n",
    "from sklearn.metrics import confusion_matrix\n",
    "from sklearn.metrics import classification_report\n",
    "from sklearn.metrics import precision_recall_fscore_support\n",
    "from sklearn.metrics import accuracy_score"
   ]
  },
  {
   "cell_type": "code",
   "execution_count": null,
   "metadata": {},
   "outputs": [],
   "source": [
    "index2image = []\n",
    "image2index = {}\n",
    "with open('./index.txt') as f:\n",
    "    lines = f.readlines()\n",
    "for line in lines:\n",
    "    index = line.split(' ')[0]\n",
    "    image = line.split(' ')[1].split('#')[1]\n",
    "    index2image.append(image)\n",
    "    image2index[image] = index\n",
    "def decoder(picture_name):\n",
    "    return image2index[picture_name.split('#')[1]]"
   ]
  },
  {
   "cell_type": "code",
   "execution_count": null,
   "metadata": {},
   "outputs": [],
   "source": [
    "ground_truth = pd.read_excel('./label.xlsx')\n",
    "label = []\n",
    "for index, row in ground_truth.iterrows():\n",
    "    objects_list = row['objects']\n",
    "    if len(objects_list.split('&')[0]) > 0:\n",
    "        label.append(objects_list.split('&')[0].split('#'))\n",
    "    else:\n",
    "        label.append([])\n",
    "print(label)"
   ]
  },
  {
   "cell_type": "code",
   "execution_count": null,
   "metadata": {},
   "outputs": [],
   "source": [
    "resolution = 30\n",
    "result_folder = './detr_video_result/' + str(resolution)\n",
    "test_truth = []\n",
    "test_result = []\n",
    "def get_count(object_list, object_label):\n",
    "    count = 0\n",
    "    for object in object_list:\n",
    "        if object == object_label:\n",
    "            count += 1\n",
    "    return count\n",
    "for objects_file in sorted(os.listdir(result_folder)):\n",
    "    with open(os.path.join(result_folder, objects_file), 'r') as f:\n",
    "        objects_info = json.load(f)\n",
    "    objects_list = []\n",
    "    temp_result = 0\n",
    "    for objects_dict in objects_info['objects']:\n",
    "        objects_list.append(objects_dict['label'])\n",
    "    picture_index = (int)(decoder(objects_file))\n",
    "    label_final = np.asarray(label[picture_index])\n",
    "    object_final = np.asarray(objects_list)\n",
    "    for object_label in label_final:\n",
    "        temp_result += get_count(object_final, object_label) >= get_count(label_final, object_label)\n",
    "    test_truth.append(len(label_final))\n",
    "    test_result.append(temp_result >= 1)\n",
    "report = classification_report(test_truth, test_result)\n",
    "print(report)\n",
    "print(test_result, test_truth)"
   ]
  }
 ],
 "metadata": {
  "kernelspec": {
   "display_name": "Python 3.8.8 ('base')",
   "language": "python",
   "name": "python3"
  },
  "language_info": {
   "codemirror_mode": {
    "name": "ipython",
    "version": 3
   },
   "file_extension": ".py",
   "mimetype": "text/x-python",
   "name": "python",
   "nbconvert_exporter": "python",
   "pygments_lexer": "ipython3",
   "version": "3.8.8"
  },
  "orig_nbformat": 4,
  "vscode": {
   "interpreter": {
    "hash": "de401cb0ebe5c3a98decf1b15e5a14f89ea85648ba9964f9d64ffd16b516b437"
   }
  }
 },
 "nbformat": 4,
 "nbformat_minor": 2
}
