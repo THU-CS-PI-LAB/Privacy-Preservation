{
 "cells": [
  {
   "cell_type": "code",
   "execution_count": null,
   "metadata": {},
   "outputs": [],
   "source": [
    "import os\n",
    "import re\n",
    "from PIL import Image\n",
    "import matplotlib.pyplot as plt"
   ]
  },
  {
   "cell_type": "code",
   "execution_count": null,
   "metadata": {},
   "outputs": [],
   "source": [
    "test_path = './result/detr-result/detr-224/1_480x480.jpg'\n",
    "test_input = Image.open(test_path)\n",
    "width, height = test_input.width, test_input.height\n",
    "size = 580\n",
    "x_delta = -10\n",
    "test_output = test_input.crop((width/2 - size/2 - x_delta, height/2 - size/2, width/2 + size/2 - x_delta, height/2 + size/2))\n",
    "test_output.save('./crop_result.png')"
   ]
  },
  {
   "cell_type": "code",
   "execution_count": null,
   "metadata": {},
   "outputs": [],
   "source": [
    "size = 580\n",
    "source_path = './result/detr-result/50'\n",
    "dest_path = './result/detr-result/50-cropped'\n",
    "if not os.path.isdir(dest_path):\n",
    "    os.makedirs(dest_path)\n",
    "for file in os.listdir(source_path):\n",
    "    if file == '.DS_Store':\n",
    "        continue\n",
    "    index = re.match(r'(\\d*)_480x480.jpg', file).group(1)\n",
    "    test_input = Image.open(os.path.join(source_path, file))\n",
    "    width, height = test_input.width, test_input.height\n",
    "    x_delta = -10\n",
    "    test_output = test_input.crop((width/2 - size/2 - x_delta, height/2 - size/2, width/2 + size/2 - x_delta, height/2 + size/2))\n",
    "    test_output.save(os.path.join(dest_path, index + '.png'))\n"
   ]
  }
 ],
 "metadata": {
  "kernelspec": {
   "display_name": "Python 3.8.8 ('base')",
   "language": "python",
   "name": "python3"
  },
  "language_info": {
   "codemirror_mode": {
    "name": "ipython",
    "version": 3
   },
   "file_extension": ".py",
   "mimetype": "text/x-python",
   "name": "python",
   "nbconvert_exporter": "python",
   "pygments_lexer": "ipython3",
   "version": "3.8.8"
  },
  "orig_nbformat": 4,
  "vscode": {
   "interpreter": {
    "hash": "de401cb0ebe5c3a98decf1b15e5a14f89ea85648ba9964f9d64ffd16b516b437"
   }
  }
 },
 "nbformat": 4,
 "nbformat_minor": 2
}
