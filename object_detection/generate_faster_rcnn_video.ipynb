{
 "cells": [
  {
   "cell_type": "code",
   "execution_count": 11,
   "metadata": {},
   "outputs": [],
   "source": [
    "import os\n",
    "import re\n",
    "import shutil\n",
    "import json\n",
    "import matplotlib.pyplot as plt\n",
    "from PIL import Image\n",
    "import torchvision\n",
    "from torchvision.io.image import read_image\n",
    "from torchvision.models.detection import fasterrcnn_resnet50_fpn_v2, FasterRCNN_ResNet50_FPN_V2_Weights\n",
    "from torchvision.utils import draw_bounding_boxes\n",
    "from torchvision.transforms.functional import to_pil_image"
   ]
  },
  {
   "cell_type": "code",
   "execution_count": 1,
   "metadata": {},
   "outputs": [],
   "source": [
    "classes = ['person', 'bicycle', 'car', 'motorcycle', 'airplane', 'bus', 'train', 'truck', 'boat', 'traffic light', 'fire hydrant', 'stop sign', 'parking meter', 'bench', 'bird', 'cat', 'dog', 'horse', 'sheep', 'cow', 'elephant', 'bear', 'zebra', 'giraffe', 'backpack', 'umbrella', 'handbag', 'tie', 'suitcase', 'frisbee', 'skis', 'snowboard', 'sports ball', 'kite', 'baseball bat', 'baseball glove', 'skateboard', 'surfboard', 'tennis racket', 'bottle', 'wine glass', 'cup', 'fork', 'knife', 'spoon', 'bowl', 'banana', 'apple', 'sandwich', 'orange', 'broccoli', 'carrot', 'hot dog', 'pizza', 'donut', 'cake', 'chair', 'couch', 'potted plant', 'bed', 'dining table', 'toilet', 'tv', 'laptop', 'mouse', 'remote', 'keyboard', 'cell phone', 'microwave', 'oven', 'toaster', 'sink', 'refrigerator', 'book', 'clock', 'vase', 'scissors', 'teddy bear', 'hair drier', 'toothbrush']\n",
    "colors = [[0.000, 0.447, 0.741], [0.850, 0.325, 0.098], [0.929, 0.694, 0.125],\n",
    "          [0.494, 0.184, 0.556], [0.466, 0.674, 0.188], [0.301, 0.745, 0.933]] * 100"
   ]
  },
  {
   "cell_type": "code",
   "execution_count": 3,
   "metadata": {},
   "outputs": [],
   "source": [
    "weights = FasterRCNN_ResNet50_FPN_V2_Weights.DEFAULT\n",
    "preprocess = weights.transforms()\n",
    "model = fasterrcnn_resnet50_fpn_v2(weights=weights, box_score_thresh=0.7)\n",
    "_ = model.eval()"
   ]
  },
  {
   "cell_type": "code",
   "execution_count": 17,
   "metadata": {},
   "outputs": [],
   "source": [
    "resolutions = [15, 20, 30, 50, 100, 160, 240]\n",
    "trans_totensor = torchvision.transforms.ToTensor()\n",
    "for resolution in resolutions:\n",
    "    nearest_folder = './nearest/video_test_nearest_' + str(resolution)\n",
    "    if os.path.exists(os.path.join('rcnn_video_plot', str(resolution))):\n",
    "        shutil.rmtree(os.path.join('rcnn_video_plot', str(resolution)))\n",
    "    os.makedirs(os.path.join('rcnn_video_plot', str(resolution)))\n",
    "    if os.path.exists(os.path.join('rcnn_video_result', str(resolution))):\n",
    "        shutil.rmtree(os.path.join('rcnn_video_result', str(resolution)))\n",
    "    os.makedirs(os.path.join('rcnn_video_result', str(resolution)))\n",
    "    for video_folder in os.listdir(nearest_folder):\n",
    "        if video_folder == '.DS_Store':\n",
    "            continue\n",
    "        for picture_name in os.listdir(os.path.join(nearest_folder, video_folder)):\n",
    "            plot_path = os.path.join('rcnn_video_plot', str(resolution), picture_name + '.jpg')\n",
    "            result_path = os.path.join('rcnn_video_result', str(resolution), picture_name + '.json')\n",
    "            img = Image.open(os.path.join(nearest_folder, video_folder, picture_name))\n",
    "            img = trans_totensor(img)\n",
    "            batch = [preprocess(img)]\n",
    "            prediction = model(batch)[0]\n",
    "            labels = [weights.meta[\"categories\"][i] for i in prediction[\"labels\"]]\n",
    "            plt.figure(figsize=(16,10))\n",
    "            plt.imshow(to_pil_image(img))\n",
    "            ax = plt.gca()\n",
    "            for p, [xmin, ymin, xmax, ymax], label, c in zip(prediction['scores'].tolist(), prediction['boxes'].tolist(), labels, colors):\n",
    "                ax.add_patch(plt.Rectangle((xmin, ymin), xmax - xmin, ymax - ymin, fill=False, color=c, linewidth=3))\n",
    "                cl = p\n",
    "                text = f'{label}: {p:0.2f}'\n",
    "                ax.text(xmin, ymin, text, fontsize=15, bbox=dict(facecolor='yellow', alpha=0.5))\n",
    "            plt.axis('off')\n",
    "            plt.savefig(plot_path)\n",
    "            plt.close()\n",
    "            size = 240\n",
    "            info = {}\n",
    "            objects = []\n",
    "            for p, [xmin, ymin, xmax, ymax], label in zip(prediction['scores'].tolist(), prediction['boxes'].tolist(), labels):\n",
    "                transformed_label = re.split(r' ', label)[-1]\n",
    "                xmin_transformed = xmin / size * 240\n",
    "                xmax_transformed = xmax / size * 240\n",
    "                ymin_transformed = ymin / size * 240\n",
    "                ymax_transformed = ymax / size * 240\n",
    "            single_object = {}\n",
    "            single_object['points'] = [xmin_transformed, ymin_transformed, xmax_transformed, ymax_transformed]\n",
    "            single_object['score'] = p\n",
    "            single_object['label'] = transformed_label\n",
    "            objects.append(single_object)\n",
    "            info['objects'] = objects\n",
    "            with open(result_path, 'w', encoding='utf8') as objects_file:\n",
    "                json.dump(info, objects_file, ensure_ascii=False)\n",
    "           "
   ]
  }
 ],
 "metadata": {
  "kernelspec": {
   "display_name": "Python 3.8.8 ('base')",
   "language": "python",
   "name": "python3"
  },
  "language_info": {
   "codemirror_mode": {
    "name": "ipython",
    "version": 3
   },
   "file_extension": ".py",
   "mimetype": "text/x-python",
   "name": "python",
   "nbconvert_exporter": "python",
   "pygments_lexer": "ipython3",
   "version": "3.8.8"
  },
  "orig_nbformat": 4,
  "vscode": {
   "interpreter": {
    "hash": "de401cb0ebe5c3a98decf1b15e5a14f89ea85648ba9964f9d64ffd16b516b437"
   }
  }
 },
 "nbformat": 4,
 "nbformat_minor": 2
}
