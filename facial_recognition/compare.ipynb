{
 "cells": [
  {
   "cell_type": "code",
   "execution_count": null,
   "metadata": {},
   "outputs": [],
   "source": [
    "import json"
   ]
  },
  {
   "cell_type": "code",
   "execution_count": null,
   "metadata": {},
   "outputs": [],
   "source": [
    "def get_face_label(class_name, video_name, frame_id):\n",
    "    query_index = (int)(frame_id)\n",
    "    with open('annotations/' + class_name + '.json', 'r') as f:\n",
    "        annotation = json.load(f)\n",
    "    face_series = annotation[video_name]['face']\n",
    "    for [start, end, label] in face_series:\n",
    "        if (start <= query_index and query_index <= end):\n",
    "            return label\n",
    "    return -1"
   ]
  },
  {
   "cell_type": "code",
   "execution_count": null,
   "metadata": {},
   "outputs": [],
   "source": [
    "# resolutions = [15, 20, 30, 50, 100, 160, 240]\n",
    "resolutions = [240]\n",
    "for resolution in resolutions:\n",
    "    result_file = './result/' + str(resolution) +'.txt'\n",
    "    result_list = []\n",
    "    with open(result_file, 'r') as f:\n",
    "        lines = f.readlines()\n",
    "    for line in lines:\n",
    "        picture_name = line.split('#')[0]\n",
    "        face_result = line.split('#')[-1]\n",
    "        print(line.split('#'))\n",
    "    #     class_name = picture_name.split('#')[0]\n",
    "    #     video_name = picture_name.split('#')[1]\n",
    "    #     frame_id = picture_name.split('#')[2]\n",
    "    #     nudity_truth_index = get_face_label(class_name, video_name, frame_id)\n",
    "    #     if nudity_truth_index == 0:\n",
    "    #         nudity_truth = 'safe'\n",
    "    #     elif nudity_truth_index == 1:\n",
    "    #         nudity_truth = 'unsafe'\n",
    "    #     else:\n",
    "    #         nudity_truth = 'unsafe'\n",
    "    #     result_list.append(nudity_truth == nudity_result)\n",
    "    # print(resolution, np.asarray(result_list).mean())"
   ]
  }
 ],
 "metadata": {
  "kernelspec": {
   "display_name": "Python 3.8.8 ('base')",
   "language": "python",
   "name": "python3"
  },
  "language_info": {
   "codemirror_mode": {
    "name": "ipython",
    "version": 3
   },
   "file_extension": ".py",
   "mimetype": "text/x-python",
   "name": "python",
   "nbconvert_exporter": "python",
   "pygments_lexer": "ipython3",
   "version": "3.8.8"
  },
  "orig_nbformat": 4,
  "vscode": {
   "interpreter": {
    "hash": "de401cb0ebe5c3a98decf1b15e5a14f89ea85648ba9964f9d64ffd16b516b437"
   }
  }
 },
 "nbformat": 4,
 "nbformat_minor": 2
}
