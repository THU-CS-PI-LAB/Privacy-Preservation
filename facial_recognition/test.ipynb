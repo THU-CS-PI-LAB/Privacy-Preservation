{
 "cells": [
  {
   "cell_type": "code",
   "execution_count": null,
   "metadata": {},
   "outputs": [],
   "source": [
    "import os\n",
    "import cv2\n",
    "import shutil\n",
    "import insightface\n",
    "import numpy as np\n",
    "from tqdm import tqdm\n",
    "import matplotlib as mpl\n",
    "from sklearn import preprocessing\n",
    "import matplotlib.pyplot as plt"
   ]
  },
  {
   "cell_type": "code",
   "execution_count": null,
   "metadata": {},
   "outputs": [],
   "source": [
    "def decoder(image_name):\n",
    "    result = image_name.split('#')\n",
    "    class_name = result[0]\n",
    "    video_name = result[1]\n",
    "    return class_name, video_name\n",
    "video2index = {}\n",
    "index2video = []\n",
    "index_file = 'index.txt'\n",
    "with open(index_file, 'r') as f:\n",
    "    lines = f.readlines()\n",
    "for line in lines:\n",
    "    index = line.split(' ')[0]\n",
    "    image = line.split(' ')[1]\n",
    "    _, video = decoder(image)\n",
    "    video2index[video] = index\n",
    "    index2video.append(video)"
   ]
  },
  {
   "cell_type": "code",
   "execution_count": null,
   "metadata": {},
   "outputs": [],
   "source": [
    "gpu_id = 0\n",
    "face_db = 'face_db'\n",
    "if os.path.isdir(face_db):\n",
    "    shutil.rmtree(face_db)\n",
    "os.makedirs(face_db)\n",
    "threshold = 1.44\n",
    "det_thresh = 0.5\n",
    "det_size = (640, 640)\n",
    "model = insightface.app.FaceAnalysis(root='./',  allowed_modules=None, providers=['CPUExecutionProvider'])\n",
    "model.prepare(ctx_id=gpu_id, det_thresh=det_thresh, det_size=det_size)\n",
    "faces_embedding = list()"
   ]
  },
  {
   "cell_type": "code",
   "execution_count": null,
   "metadata": {},
   "outputs": [],
   "source": [
    "def feature_compare(feature1, feature2, threshold):\n",
    "    diff = np.subtract(feature1, feature2)\n",
    "    dist = np.sum(np.square(diff), 1)\n",
    "    if dist < threshold:\n",
    "        return True\n",
    "    else:\n",
    "        return False"
   ]
  },
  {
   "cell_type": "code",
   "execution_count": null,
   "metadata": {},
   "outputs": [],
   "source": [
    "def register(image, user_name):\n",
    "    faces = model.get(image)\n",
    "    if len(faces) < 1:\n",
    "        return 'no face'\n",
    "    embedding = np.array(faces[0].embedding).reshape((1, -1))\n",
    "    embedding = preprocessing.normalize(embedding)\n",
    "    is_exits = False\n",
    "    for com_face in faces_embedding:\n",
    "        r = feature_compare(embedding, com_face[\"feature\"], threshold)\n",
    "        if r:\n",
    "            is_exits = True\n",
    "    if is_exits:\n",
    "        return 'already exsit'\n",
    "    cv2.imencode('.png', image)[1].tofile(os.path.join(face_db, '%s.png' % user_name))\n",
    "    faces_embedding.append({\n",
    "        \"user_name\": user_name,\n",
    "        \"feature\": embedding\n",
    "    })\n",
    "    return \"success\""
   ]
  },
  {
   "cell_type": "code",
   "execution_count": null,
   "metadata": {},
   "outputs": [],
   "source": [
    "def recognition(image):\n",
    "    faces = model.get(image)\n",
    "    final_results = []\n",
    "    for face in faces:\n",
    "        results = {}\n",
    "        embedding = np.array(face.embedding).reshape((1, -1))\n",
    "        embedding = preprocessing.normalize(embedding)\n",
    "        user_name = \"unknown\"\n",
    "        for com_face in faces_embedding:\n",
    "            difference = np.subtract(embedding, com_face[\"feature\"])\n",
    "            distance = np.sum(np.square(difference), 1)\n",
    "            results[com_face[\"user_name\"]]= distance[0]\n",
    "        sorted_results = sorted(results.items(), key=lambda x:x[1])\n",
    "        if sorted_results:\n",
    "            final_results.append(sorted_results[0][0])\n",
    "        else:\n",
    "            final_results.append('unknown')\n",
    "    return final_results"
   ]
  },
  {
   "cell_type": "code",
   "execution_count": null,
   "metadata": {},
   "outputs": [],
   "source": [
    "def detect(image):\n",
    "    faces = model.get(image)\n",
    "    results = list()\n",
    "    for face in faces:\n",
    "        result = dict()\n",
    "        result[\"bbox\"] = np.array(face.bbox).astype(np.int32).tolist()\n",
    "        result[\"kps\"] = np.array(face.kps).astype(np.int32).tolist()\n",
    "        result[\"landmark_3d_68\"] = np.array(face.landmark_3d_68).astype(np.int32).tolist()\n",
    "        result[\"landmark_2d_106\"] = np.array(face.landmark_2d_106).astype(np.int32).tolist()\n",
    "        result[\"pose\"] = np.array(face.pose).astype(np.int32).tolist()\n",
    "        result[\"age\"] = face.age\n",
    "        gender = 'Male'\n",
    "        if face.gender == 0:\n",
    "            gender = 'Female'\n",
    "        result[\"gender\"] = gender\n",
    "        embedding = np.array(face.embedding).reshape((1, -1))\n",
    "        embedding = preprocessing.normalize(embedding)\n",
    "        result[\"embedding\"] = embedding\n",
    "        results.append(result)\n",
    "    return results"
   ]
  },
  {
   "cell_type": "code",
   "execution_count": null,
   "metadata": {},
   "outputs": [],
   "source": [
    "def load_faces(face_db_path):\n",
    "    if not os.path.exists(face_db_path):\n",
    "        os.makedirs(face_db_path)\n",
    "    for root, dirs, files in os.walk(face_db_path):\n",
    "        for file in files:\n",
    "            if file == \".DS_Store\":\n",
    "                continue\n",
    "            input_image = cv2.imdecode(np.fromfile(os.path.join(root, file), dtype=np.uint8), 1)\n",
    "            user_name = file.split(\".\")[0]\n",
    "            face = model.get(input_image)[0]\n",
    "            embedding = np.array(face.embedding).reshape((1, -1))\n",
    "            embedding = preprocessing.normalize(embedding)\n",
    "            faces_embedding.append({\n",
    "                \"user_name\": user_name,\n",
    "                \"feature\": embedding\n",
    "            })\n",
    "\n",
    "load_faces('./face_db/')"
   ]
  },
  {
   "cell_type": "code",
   "execution_count": null,
   "metadata": {},
   "outputs": [],
   "source": [
    "register_folder = 'test/video_test_nearest_240/'\n",
    "load_faces('./face_db/')\n",
    "for video_folder in os.listdir(register_folder):\n",
    "    if video_folder == '.DS_Store':\n",
    "        continue\n",
    "    for picture_name in os.listdir(os.path.join(register_folder, video_folder)):\n",
    "        img = cv2.imdecode(np.fromfile(os.path.join(register_folder, video_folder, picture_name), dtype=np.uint8), -1)\n",
    "        results = recognition(img)\n",
    "        class_name, video_name = decoder(picture_name)\n",
    "        register_result = register(img, user_name=video_name)"
   ]
  },
  {
   "cell_type": "code",
   "execution_count": null,
   "metadata": {},
   "outputs": [],
   "source": [
    "resolutions = [15, 20, 30, 50, 100, 160, 240]\n",
    "load_faces('./face_db/')\n",
    "\n",
    "for resolution in tqdm(resolutions):\n",
    "    test_folder = 'test/video_test_nearest_' + str(resolution)\n",
    "    result_folder = './result/'\n",
    "    total_results = {}\n",
    "    for video_folder in os.listdir(test_folder):\n",
    "        if video_folder == '.DS_Store':\n",
    "            continue\n",
    "        for picture_name in os.listdir(os.path.join(test_folder, video_folder)):\n",
    "            img = cv2.imdecode(np.fromfile(os.path.join(test_folder, video_folder, picture_name), dtype=np.uint8), -1)\n",
    "            results = recognition(img)\n",
    "            class_name, video_name = decoder(picture_name)\n",
    "            total_results[picture_name] = results\n",
    "    with open(os.path.join(result_folder, str(resolution) + '.txt'),'w+') as f:\n",
    "        for picture_name in total_results:\n",
    "            temp_results = total_results[picture_name]\n",
    "            f.write(f'{picture_name}#')\n",
    "            for face in temp_results:\n",
    "                f.write(f'{face}@')\n",
    "            f.write(f'\\n')"
   ]
  }
 ],
 "metadata": {
  "kernelspec": {
   "display_name": "Python 3.8.8 ('base')",
   "language": "python",
   "name": "python3"
  },
  "language_info": {
   "codemirror_mode": {
    "name": "ipython",
    "version": 3
   },
   "file_extension": ".py",
   "mimetype": "text/x-python",
   "name": "python",
   "nbconvert_exporter": "python",
   "pygments_lexer": "ipython3",
   "version": "3.8.8"
  },
  "orig_nbformat": 4,
  "vscode": {
   "interpreter": {
    "hash": "de401cb0ebe5c3a98decf1b15e5a14f89ea85648ba9964f9d64ffd16b516b437"
   }
  }
 },
 "nbformat": 4,
 "nbformat_minor": 2
}
