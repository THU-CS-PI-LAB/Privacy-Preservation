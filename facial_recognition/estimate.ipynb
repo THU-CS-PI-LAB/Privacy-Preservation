{
 "cells": [
  {
   "cell_type": "code",
   "execution_count": null,
   "metadata": {},
   "outputs": [],
   "source": [
    "import pandas as pd\n",
    "from sklearn.metrics import classification_report"
   ]
  },
  {
   "cell_type": "code",
   "execution_count": null,
   "metadata": {},
   "outputs": [],
   "source": [
    "index2image = []\n",
    "image2index = {}\n",
    "with open('index.txt', 'r') as f:\n",
    "    lines = f.readlines()\n",
    "for line in lines:\n",
    "    index = line.split(' ')[0]\n",
    "    video = line.split(' ')[1].split('#')[1]\n",
    "    index2image.append(video)\n",
    "    image2index[video] = index \n",
    "print(image2index)"
   ]
  },
  {
   "cell_type": "code",
   "execution_count": null,
   "metadata": {},
   "outputs": [],
   "source": [
    "resolution = 20\n",
    "result_file = './result/' + str(resolution) + '.txt'\n",
    "result_list = {}\n",
    "with open(result_file, 'r') as f:\n",
    "    lines = f.readlines()\n",
    "for line in lines:\n",
    "    class_name = line.split('#')[0]\n",
    "    video_name = line.split('#')[1]\n",
    "    face_list = line.split('#')[-1].split('@')[:-1]\n",
    "    if image2index[video_name] in result_list:\n",
    "        for face_index in [image2index[face] for face in face_list]:\n",
    "            result_list[image2index[video_name]].append((face_index))\n",
    "    else:\n",
    "        result_list[image2index[video_name]] = []\n",
    "print(result_list)"
   ]
  },
  {
   "cell_type": "code",
   "execution_count": null,
   "metadata": {},
   "outputs": [],
   "source": [
    "ground_truth = pd.read_excel('./label.xlsx')\n",
    "label = []\n",
    "for index, row in ground_truth.iterrows():\n",
    "    label.append(row['face'])"
   ]
  },
  {
   "cell_type": "code",
   "execution_count": null,
   "metadata": {},
   "outputs": [],
   "source": [
    "label_modified = []\n",
    "face_modified = []\n",
    "for i in range(0,len(label)):\n",
    "    if label[i] == -1:\n",
    "        label_modified.append(0)\n",
    "        if (len(result_list[str(i)]) == 0):\n",
    "            face_modified.append(0)\n",
    "        else:\n",
    "            face_modified.append(1)\n",
    "    else:\n",
    "        label_modified.append(1)\n",
    "        if str(label[i]) in result_list[str(i)]:\n",
    "            face_modified.append(1)\n",
    "        else:\n",
    "            face_modified.append(0)\n",
    "    print(result_list[str(i)], label[i], face_modified[i], label_modified[i])"
   ]
  },
  {
   "cell_type": "code",
   "execution_count": null,
   "metadata": {},
   "outputs": [],
   "source": [
    "report = classification_report(face_modified, label_modified)\n",
    "print(report)"
   ]
  }
 ],
 "metadata": {
  "kernelspec": {
   "display_name": "Python 3.8.8 ('base')",
   "language": "python",
   "name": "python3"
  },
  "language_info": {
   "codemirror_mode": {
    "name": "ipython",
    "version": 3
   },
   "file_extension": ".py",
   "mimetype": "text/x-python",
   "name": "python",
   "nbconvert_exporter": "python",
   "pygments_lexer": "ipython3",
   "version": "3.8.8"
  },
  "orig_nbformat": 4,
  "vscode": {
   "interpreter": {
    "hash": "de401cb0ebe5c3a98decf1b15e5a14f89ea85648ba9964f9d64ffd16b516b437"
   }
  }
 },
 "nbformat": 4,
 "nbformat_minor": 2
}
