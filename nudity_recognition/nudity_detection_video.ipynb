{
 "cells": [
  {
   "cell_type": "code",
   "execution_count": null,
   "metadata": {},
   "outputs": [],
   "source": [
    "import os\n",
    "from nudenet import NudeClassifier"
   ]
  },
  {
   "cell_type": "code",
   "execution_count": null,
   "metadata": {},
   "outputs": [],
   "source": [
    "resolutions = [15, 20, 30, 50, 100, 160, 240]\n",
    "classifier = NudeClassifier()\n",
    "for resolution in resolutions:\n",
    "    test_folder = './nearest/video_test_nearest_' + str(resolution)\n",
    "    total_results = {}\n",
    "    for video_folder in os.listdir(test_folder):\n",
    "        if video_folder == '.DS_Store':\n",
    "            continue\n",
    "        for picture_name in os.listdir(os.path.join(test_folder, video_folder)):\n",
    "            picture_path = os.path.join(test_folder, video_folder, picture_name)\n",
    "            result = classifier.classify(picture_path)\n",
    "            total_results[picture_name] = sorted(result[picture_path].items(), key=lambda x:x[1], reverse=True)[0][0]\n",
    "    result_folder = './result/'\n",
    "    with open(os.path.join(result_folder, str(resolution) + '.txt'), 'w') as f:\n",
    "        for picture_name in total_results:\n",
    "            temp_result = total_results[picture_name]\n",
    "        f.write(f'{picture_name}@{temp_result}\\n')"
   ]
  }
 ],
 "metadata": {
  "kernelspec": {
   "display_name": "Python 3.8.8 ('base')",
   "language": "python",
   "name": "python3"
  },
  "language_info": {
   "codemirror_mode": {
    "name": "ipython",
    "version": 3
   },
   "file_extension": ".py",
   "mimetype": "text/x-python",
   "name": "python",
   "nbconvert_exporter": "python",
   "pygments_lexer": "ipython3",
   "version": "3.8.8"
  },
  "orig_nbformat": 4,
  "vscode": {
   "interpreter": {
    "hash": "de401cb0ebe5c3a98decf1b15e5a14f89ea85648ba9964f9d64ffd16b516b437"
   }
  }
 },
 "nbformat": 4,
 "nbformat_minor": 2
}
