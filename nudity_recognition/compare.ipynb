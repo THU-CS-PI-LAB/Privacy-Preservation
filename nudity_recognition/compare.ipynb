{
 "cells": [
  {
   "cell_type": "code",
   "execution_count": null,
   "metadata": {},
   "outputs": [],
   "source": [
    "import json\n",
    "import pandas as pd\n",
    "from sklearn.metrics import classification_report"
   ]
  },
  {
   "cell_type": "code",
   "execution_count": null,
   "metadata": {},
   "outputs": [],
   "source": [
    "def get_nudity_label(class_name, video_name, frame_id):\n",
    "    query_index = (int)(frame_id)\n",
    "    with open('annotations/' + class_name + '.json', 'r') as f:\n",
    "        annotation = json.load(f)\n",
    "    nudity_series = annotation[video_name]['nudity']\n",
    "    for [start, end, label] in nudity_series:\n",
    "        if (start <= query_index and query_index <= end):\n",
    "            return label\n",
    "    return -1"
   ]
  },
  {
   "cell_type": "code",
   "execution_count": null,
   "metadata": {},
   "outputs": [],
   "source": [
    "ground_truth = pd.read_excel('./label.xlsx')\n",
    "label = []\n",
    "for index, row in ground_truth.iterrows():\n",
    "    label.append(row['label'])"
   ]
  },
  {
   "cell_type": "code",
   "execution_count": null,
   "metadata": {},
   "outputs": [],
   "source": [
    "with open('index.txt', 'r') as f:\n",
    "    lines = f.readlines()\n",
    "index2image = []\n",
    "image2index = {}\n",
    "for line in lines:\n",
    "    index = line.split(' ')[0]\n",
    "    image = line.split(' ')[1].split('#')[1]\n",
    "    index2image.append(image)\n",
    "    image2index[image] = index"
   ]
  },
  {
   "cell_type": "code",
   "execution_count": null,
   "metadata": {},
   "outputs": [],
   "source": [
    "# resolutions = [15, 20, 30, 50, 100, 160, 240]\n",
    "resolutions = [15]\n",
    "index2result = {}\n",
    "for resolution in resolutions:\n",
    "    result_file = './result/' + str(resolution) +'.txt'\n",
    "    result_list = []\n",
    "    with open(result_file, 'r') as f:\n",
    "        lines = f.readlines()\n",
    "    for line in lines:\n",
    "        picture_name = line.split('@')[0]\n",
    "        nudity_result = line.split('@')[1][:-1]\n",
    "        class_name = picture_name.split('#')[0]\n",
    "        video_name = picture_name.split('#')[1]\n",
    "        frame_id = picture_name.split('#')[2]\n",
    "        index2result[image2index[video_name]] = nudity_result"
   ]
  },
  {
   "cell_type": "code",
   "execution_count": null,
   "metadata": {},
   "outputs": [],
   "source": [
    "test = []\n",
    "for i in range(0,len(index2result)):\n",
    "    test.append(index2result[str(i)])"
   ]
  },
  {
   "cell_type": "code",
   "execution_count": null,
   "metadata": {},
   "outputs": [],
   "source": [
    "report = classification_report(label, test)\n",
    "print(report)"
   ]
  }
 ],
 "metadata": {
  "kernelspec": {
   "display_name": "Python 3.8.8 ('base')",
   "language": "python",
   "name": "python3"
  },
  "language_info": {
   "codemirror_mode": {
    "name": "ipython",
    "version": 3
   },
   "file_extension": ".py",
   "mimetype": "text/x-python",
   "name": "python",
   "nbconvert_exporter": "python",
   "pygments_lexer": "ipython3",
   "version": "3.8.8"
  },
  "orig_nbformat": 4,
  "vscode": {
   "interpreter": {
    "hash": "de401cb0ebe5c3a98decf1b15e5a14f89ea85648ba9964f9d64ffd16b516b437"
   }
  }
 },
 "nbformat": 4,
 "nbformat_minor": 2
}
